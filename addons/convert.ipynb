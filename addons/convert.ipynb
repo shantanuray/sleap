{
 "cells": [
  {
   "cell_type": "markdown",
   "id": "4b052c65-1eaa-474d-838b-36d94f023a8c",
   "metadata": {},
   "source": [
    "### Initialize Input Path with slp files"
   ]
  },
  {
   "cell_type": "code",
   "execution_count": 1,
   "id": "774f0af0-12e2-4469-a95b-1c076d3de00b",
   "metadata": {},
   "outputs": [],
   "source": [
    "input_path = 'C:\\\\Users\\shantanu.ray\\Downloads\\data\\Ayesha_local\\Ayesha\\sleap_ropepull_cam1\\predictions'"
   ]
  },
  {
   "cell_type": "code",
   "execution_count": 2,
   "id": "79bac4ae-33b2-47a5-a07f-747a87344dfb",
   "metadata": {},
   "outputs": [],
   "source": [
    "input_file_pattern = r'.*\\.slp'"
   ]
  },
  {
   "cell_type": "code",
   "execution_count": 3,
   "id": "46d2d0e9-c85f-498e-96f3-a5062b55ab67",
   "metadata": {},
   "outputs": [],
   "source": [
    "from utils import get_files"
   ]
  },
  {
   "cell_type": "code",
   "execution_count": 4,
   "id": "ce569fd4-7d03-4fbe-ada8-5c2f7884e505",
   "metadata": {},
   "outputs": [
    {
     "name": "stdout",
     "output_type": "stream",
     "text": [
      "['C:\\\\Users\\\\shantanu.ray\\\\Downloads\\\\data\\\\Ayesha_local\\\\Ayesha\\\\sleap_ropepull_cam1\\\\predictions\\\\CFL13_06272022_saline_9_15-25-10_cam1.mp4.220809_151107.predictions.slp', 'C:\\\\Users\\\\shantanu.ray\\\\Downloads\\\\data\\\\Ayesha_local\\\\Ayesha\\\\sleap_ropepull_cam1\\\\predictions\\\\CFL13_CNO_06282022_10_15-58-44_cam1.mp4.220809_151136.predictions.slp', 'C:\\\\Users\\\\shantanu.ray\\\\Downloads\\\\data\\\\Ayesha_local\\\\Ayesha\\\\sleap_ropepull_cam1\\\\predictions\\\\CFL14_CNO_06292022_21_16-52-08_cam1.mp4.220809_151205.predictions.slp', 'C:\\\\Users\\\\shantanu.ray\\\\Downloads\\\\data\\\\Ayesha_local\\\\Ayesha\\\\sleap_ropepull_cam1\\\\predictions\\\\CFL14_saline_06282022_23_15-25-41_cam1.mp4.220809_151234.predictions.slp']\n"
     ]
    }
   ],
   "source": [
    "input_files = get_files(input_path, input_file_pattern)\n",
    "print(input_files)"
   ]
  },
  {
   "cell_type": "markdown",
   "id": "c688e760-6b6b-4610-b388-59999f916a49",
   "metadata": {},
   "source": [
    "### Select appropriate conversion type"
   ]
  },
  {
   "cell_type": "code",
   "execution_count": 5,
   "id": "4466684c-600a-4915-8871-f07502fa9853",
   "metadata": {},
   "outputs": [],
   "source": [
    "conversion_format = 'analysis'\n",
    "assert conversion_format in ['h5', 'slp', 'json', 'analysis'], f'Incorrect conversion format {format}'\n",
    "if conversion_format == 'analysis':\n",
    "    ext = '.analysis.h5'\n",
    "else:\n",
    "    ext = '.' + conversion_format"
   ]
  },
  {
   "cell_type": "markdown",
   "id": "96d0357f-e5c7-4582-9333-cb4a26f6e1a0",
   "metadata": {},
   "source": [
    "### Select save location"
   ]
  },
  {
   "cell_type": "code",
   "execution_count": 6,
   "id": "8556e656-0943-469e-862c-832044e43cfe",
   "metadata": {},
   "outputs": [],
   "source": [
    "from os.path import split, exists, join\n",
    "from os import mkdir"
   ]
  },
  {
   "cell_type": "code",
   "execution_count": 7,
   "id": "b31fca65-1845-43de-84f6-4d81235396f3",
   "metadata": {},
   "outputs": [],
   "source": [
    "out_path = 'C:\\\\Users\\shantanu.ray\\Downloads\\data\\Ayesha_local\\Ayesha\\sleap_ropepull_cam1\\save'\n",
    "# if save location does not exist, create it\n",
    "if not exists(out_path):\n",
    "    mkdir(out_path)"
   ]
  },
  {
   "cell_type": "markdown",
   "id": "bd6c5cde-e95e-49cf-8eb3-b8b4e44bae02",
   "metadata": {},
   "source": [
    "### Run conversion"
   ]
  },
  {
   "cell_type": "code",
   "execution_count": 8,
   "id": "1ffc5fc5-e91a-4b81-97b8-aedbe1c84751",
   "metadata": {},
   "outputs": [],
   "source": [
    "from utils import extract_prefix, extract_match\n",
    "from io_sleap import convert\n",
    "from IPython.utils import io"
   ]
  },
  {
   "cell_type": "code",
   "execution_count": 12,
   "id": "df50fec2-3425-46d9-ab24-07b546606470",
   "metadata": {},
   "outputs": [
    {
     "name": "stdout",
     "output_type": "stream",
     "text": [
      "Saving to C:\\Users\\shantanu.ray\\Downloads\\data\\Ayesha_local\\Ayesha\\sleap_ropepull_cam1\\save\\CFL13_06272022_saline_9_15-25-10_cam1.analysis.h5\n",
      "Saving to C:\\Users\\shantanu.ray\\Downloads\\data\\Ayesha_local\\Ayesha\\sleap_ropepull_cam1\\save\\CFL13_CNO_06282022_10_15-58-44_cam1.analysis.h5\n",
      "Saving to C:\\Users\\shantanu.ray\\Downloads\\data\\Ayesha_local\\Ayesha\\sleap_ropepull_cam1\\save\\CFL14_CNO_06292022_21_16-52-08_cam1.analysis.h5\n",
      "Saving to C:\\Users\\shantanu.ray\\Downloads\\data\\Ayesha_local\\Ayesha\\sleap_ropepull_cam1\\save\\CFL14_saline_06282022_23_15-25-41_cam1.analysis.h5\n"
     ]
    }
   ],
   "source": [
    "for in_filepath in input_files:\n",
    "    _, in_filename = split(in_filepath)\n",
    "    out_filename = extract_match(in_filename, pattern = r'.*_cam\\d+') + ext\n",
    "    out_filepath = join(out_path, out_filename)\n",
    "    print(f'Saving to {out_filepath}')\n",
    "    with io.capture_output() as captured: # Block unnecessary output from sleap.info.write_tracking_h5.write_occupancy_file\n",
    "        convert(in_filepath, out_filepath, format=conversion_format)"
   ]
  },
  {
   "cell_type": "code",
   "execution_count": null,
   "id": "c450600e-9968-4f61-bc53-97d0b445bb33",
   "metadata": {},
   "outputs": [],
   "source": []
  }
 ],
 "metadata": {
  "kernelspec": {
   "display_name": "sleap-convert",
   "language": "python",
   "name": "sleap-convert"
  },
  "language_info": {
   "codemirror_mode": {
    "name": "ipython",
    "version": 3
   },
   "file_extension": ".py",
   "mimetype": "text/x-python",
   "name": "python",
   "nbconvert_exporter": "python",
   "pygments_lexer": "ipython3",
   "version": "3.8.10"
  }
 },
 "nbformat": 4,
 "nbformat_minor": 5
}
