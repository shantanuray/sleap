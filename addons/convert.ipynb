{
 "cells": [
  {
   "cell_type": "markdown",
   "id": "4b052c65-1eaa-474d-838b-36d94f023a8c",
   "metadata": {},
   "source": [
    "### Initialize Input Path with slp files"
   ]
  },
  {
   "cell_type": "code",
   "execution_count": 1,
   "id": "774f0af0-12e2-4469-a95b-1c076d3de00b",
   "metadata": {},
   "outputs": [],
   "source": [
    "path = 'C:\\\\Users\\shantanu.ray\\Downloads\\data\\Ayesha_local\\Ayesha\\sleap_ropepull_cam1\\predictions'"
   ]
  },
  {
   "cell_type": "code",
   "execution_count": 2,
   "id": "79bac4ae-33b2-47a5-a07f-747a87344dfb",
   "metadata": {},
   "outputs": [],
   "source": [
    "input_file_pattern = r'.*\\.slp'"
   ]
  },
  {
   "cell_type": "code",
   "execution_count": 3,
   "id": "46d2d0e9-c85f-498e-96f3-a5062b55ab67",
   "metadata": {},
   "outputs": [],
   "source": [
    "from utils import get_files"
   ]
  },
  {
   "cell_type": "code",
   "execution_count": 4,
   "id": "ce569fd4-7d03-4fbe-ada8-5c2f7884e505",
   "metadata": {},
   "outputs": [
    {
     "name": "stdout",
     "output_type": "stream",
     "text": [
      "['C:\\\\Users\\\\shantanu.ray\\\\Downloads\\\\data\\\\Ayesha_local\\\\Ayesha\\\\sleap_ropepull_cam1\\\\predictions\\\\CFL13_06272022_saline_9_15-25-10_cam1.mp4.220809_151107.predictions.slp', 'C:\\\\Users\\\\shantanu.ray\\\\Downloads\\\\data\\\\Ayesha_local\\\\Ayesha\\\\sleap_ropepull_cam1\\\\predictions\\\\CFL13_CNO_06282022_10_15-58-44_cam1.mp4.220809_151136.predictions.slp', 'C:\\\\Users\\\\shantanu.ray\\\\Downloads\\\\data\\\\Ayesha_local\\\\Ayesha\\\\sleap_ropepull_cam1\\\\predictions\\\\CFL14_CNO_06292022_21_16-52-08_cam1.mp4.220809_151205.predictions.slp', 'C:\\\\Users\\\\shantanu.ray\\\\Downloads\\\\data\\\\Ayesha_local\\\\Ayesha\\\\sleap_ropepull_cam1\\\\predictions\\\\CFL14_saline_06282022_23_15-25-41_cam1.mp4.220809_151234.predictions.slp']\n"
     ]
    }
   ],
   "source": [
    "input_files = get_files(path, input_file_pattern)\n",
    "print(input_files)"
   ]
  },
  {
   "cell_type": "markdown",
   "id": "33e2cb78-4ac5-4126-92c7-c277b50c0862",
   "metadata": {},
   "source": [
    "### Test the conversion"
   ]
  },
  {
   "cell_type": "code",
   "execution_count": 5,
   "id": "e801e461-2e80-4892-bc9b-e23458994fd4",
   "metadata": {},
   "outputs": [],
   "source": [
    "from io_sleap import convert"
   ]
  },
  {
   "cell_type": "code",
   "execution_count": 6,
   "id": "fd12d3e6-c1d8-44fe-be48-db708ef3d86d",
   "metadata": {},
   "outputs": [
    {
     "name": "stdout",
     "output_type": "stream",
     "text": [
      "Output SLEAP dataset: C:\\Users\\shantanu.ray\\Downloads\\data\\Ayesha_local\\Ayesha\\sleap_ropepull_cam1\\predictions\\CFL13_06272022_saline_9_15-25-10_cam1.h5\n"
     ]
    }
   ],
   "source": [
    "convert('C:\\\\Users\\\\shantanu.ray\\\\Downloads\\\\data\\\\Ayesha_local\\\\Ayesha\\\\sleap_ropepull_cam1\\\\predictions\\\\CFL13_06272022_saline_9_15-25-10_cam1.mp4.220809_151107.predictions.slp', 'C:\\\\Users\\\\shantanu.ray\\\\Downloads\\\\data\\\\Ayesha_local\\\\Ayesha\\\\sleap_ropepull_cam1\\\\predictions\\\\CFL13_06272022_saline_9_15-25-10_cam1.h5', format='h5')"
   ]
  },
  {
   "cell_type": "code",
   "execution_count": 7,
   "id": "97a642ca-af99-43d8-9e96-5a0b19a8a2c3",
   "metadata": {},
   "outputs": [
    {
     "name": "stdout",
     "output_type": "stream",
     "text": [
      "track_names: 1\n",
      "node_names: 11\n",
      "edge_names: 7\n",
      "edge_inds: 7\n",
      "tracks: (1600, 11, 2, 1)\n",
      "track_occupancy: (1, 1600)\n",
      "point_scores: (1600, 11, 1)\n",
      "instance_scores: (1600, 1)\n",
      "tracking_scores: (1600, 1)\n",
      "labels_path: C:\\Users\\shantanu.ray\\Downloads\\data\\Ayesha_local\\Ayesha\\sleap_ropepull_cam1\\predictions\\CFL13_06272022_saline_9_15-25-10_cam1.mp4.220809_151107.predictions.slp\n",
      "video_path: D:/Ayesha_local/RP_SLEAP_trainingVideos/cam1/CFL13_06272022_saline_9_15-25-10_cam1.mp4\n",
      "video_ind: 0\n",
      "provenance: {\"sleap_version\": \"1.2.4\", \"platform\": \"Windows-10-10.0.19041-SP0\", \"command\": \"C:\\\\Users\\\\MNL-E\\\\anaconda3\\\\envs\\\\sleap\\\\Scripts\\\\sleap-track D:/Ayesha_local/RP_SLEAP_trainingVideos/cam1/CFL13_06272022_saline_9_15-25-10_cam1.mp4 --frames 0,-1599 -m D:/Ayesha_local/sleap_ropepull_cam1\\\\models\\\\cam1_MATD_ITR12220809_125904.centroid.n=1089\\\\training_config.json -m D:/Ayesha_local/sleap_ropepull_cam1\\\\models\\\\cam1_MATD_ITR12220809_132248.centered_instance.n=1089\\\\training_config.json --tracking.tracker simple --tracking.pre_cull_to_target 0 --tracking.pre_cull_iou_threshold 0.8 --tracking.similarity iou --tracking.match hungarian --tracking.track_window 5 --tracking.post_connect_single_breaks 0 -o D:/Ayesha_local/sleap_ropepull_cam1\\\\predictions\\\\CFL13_06272022_saline_9_15-25-10_cam1.mp4.220809_151107.predictions.slp --verbosity json --no-empty-frames\", \"data_path\": \"D:/Ayesha_local/RP_SLEAP_trainingVideos/cam1/CFL13_06272022_saline_9_15-25-10_cam1.mp4\", \"model_paths\": [\"D:/Ayesha_local/sleap_ropepull_cam1\\\\models\\\\cam1_MATD_ITR12220809_125904.centroid.n=1089\\\\training_config.json\", \"D:/Ayesha_local/sleap_ropepull_cam1\\\\models\\\\cam1_MATD_ITR12220809_132248.centered_instance.n=1089\\\\training_config.json\"], \"output_path\": \"D:/Ayesha_local/sleap_ropepull_cam1\\\\predictions\\\\CFL13_06272022_saline_9_15-25-10_cam1.mp4.220809_151107.predictions.slp\", \"predictor\": \"TopDownPredictor\", \"total_elapsed\": 23.981675148010254, \"start_timestamp\": \"2022-08-09 15:11:11.578070\", \"finish_timestamp\": \"2022-08-09 15:11:35.559745\", \"args\": {\"data_path\": \"D:/Ayesha_local/RP_SLEAP_trainingVideos/cam1/CFL13_06272022_saline_9_15-25-10_cam1.mp4\", \"models\": [\"D:/Ayesha_local/sleap_ropepull_cam1\\\\models\\\\cam1_MATD_ITR12220809_125904.centroid.n=1089\\\\training_config.json\", \"D:/Ayesha_local/sleap_ropepull_cam1\\\\models\\\\cam1_MATD_ITR12220809_132248.centered_instance.n=1089\\\\training_config.json\"], \"frames\": \"0,-1599\", \"only_labeled_frames\": false, \"only_suggested_frames\": false, \"output\": \"D:/Ayesha_local/sleap_ropepull_cam1\\\\predictions\\\\CFL13_06272022_saline_9_15-25-10_cam1.mp4.220809_151107.predictions.slp\", \"no_empty_frames\": true, \"verbosity\": \"json\", \"video.dataset\": null, \"video.input_format\": \"channels_last\", \"cpu\": false, \"first_gpu\": false, \"last_gpu\": false, \"gpu\": 0, \"max_edge_length_ratio\": 0.25, \"dist_penalty_weight\": 1.0, \"batch_size\": 4, \"open_in_gui\": false, \"peak_threshold\": 0.2, \"tracking.tracker\": \"simple\", \"tracking.target_instance_count\": null, \"tracking.pre_cull_to_target\": 0, \"tracking.pre_cull_iou_threshold\": 0.8, \"tracking.post_connect_single_breaks\": 0, \"tracking.clean_instance_count\": null, \"tracking.clean_iou_threshold\": null, \"tracking.similarity\": \"iou\", \"tracking.match\": \"hungarian\", \"tracking.track_window\": 5, \"tracking.min_new_track_points\": null, \"tracking.min_match_points\": null, \"tracking.img_scale\": null, \"tracking.of_window_size\": null, \"tracking.of_max_levels\": null, \"tracking.kf_node_indices\": null, \"tracking.kf_init_frame_count\": null}}\n",
      "Saved as C:\\Users\\shantanu.ray\\Downloads\\data\\Ayesha_local\\Ayesha\\sleap_ropepull_cam1\\predictions\\CFL13_06272022_saline_9_15-25-10_cam1.analysis.h5\n"
     ]
    }
   ],
   "source": [
    "convert('C:\\\\Users\\\\shantanu.ray\\\\Downloads\\\\data\\\\Ayesha_local\\\\Ayesha\\\\sleap_ropepull_cam1\\\\predictions\\\\CFL13_06272022_saline_9_15-25-10_cam1.mp4.220809_151107.predictions.slp', 'C:\\\\Users\\\\shantanu.ray\\\\Downloads\\\\data\\\\Ayesha_local\\\\Ayesha\\\\sleap_ropepull_cam1\\\\predictions\\\\CFL13_06272022_saline_9_15-25-10_cam1.analysis.h5', format='analysis')"
   ]
  },
  {
   "cell_type": "markdown",
   "id": "c688e760-6b6b-4610-b388-59999f916a49",
   "metadata": {},
   "source": [
    "### Select appropriate conversion type"
   ]
  },
  {
   "cell_type": "code",
   "execution_count": 8,
   "id": "17a2d0f9-ed49-4faf-bb83-535b1b55183d",
   "metadata": {},
   "outputs": [],
   "source": [
    "conversion_format = 'h5'\n",
    "assert conversion_format in ['h5', 'slp', 'json', 'analysis'], f'Incorrect conversion format {format}'\n",
    "if conversion_format == 'analysis':\n",
    "    ext = '.analysis.h5'\n",
    "else:\n",
    "    ext = '.' + conversion_format"
   ]
  },
  {
   "cell_type": "markdown",
   "id": "bd6c5cde-e95e-49cf-8eb3-b8b4e44bae02",
   "metadata": {},
   "source": [
    "### Run conversion"
   ]
  },
  {
   "cell_type": "code",
   "execution_count": 9,
   "id": "1ffc5fc5-e91a-4b81-97b8-aedbe1c84751",
   "metadata": {},
   "outputs": [],
   "source": [
    "from utils import extract_prefix "
   ]
  },
  {
   "cell_type": "code",
   "execution_count": 11,
   "id": "0e7a57db-b6dd-415d-8a46-5e37f5585a5a",
   "metadata": {},
   "outputs": [
    {
     "name": "stdout",
     "output_type": "stream",
     "text": [
      "Output SLEAP dataset: C:\\Users\\shantanu.ray\\Downloads\\data\\Ayesha_local\\Ayesha\\sleap_ropepull_cam1\\predictions\\CFL13_06272022_saline_9_15-25-10_cam1.h5\n",
      "Output SLEAP dataset: C:\\Users\\shantanu.ray\\Downloads\\data\\Ayesha_local\\Ayesha\\sleap_ropepull_cam1\\predictions\\CFL13_CNO_06282022_10_15-58-44_cam1.h5\n",
      "Output SLEAP dataset: C:\\Users\\shantanu.ray\\Downloads\\data\\Ayesha_local\\Ayesha\\sleap_ropepull_cam1\\predictions\\CFL14_CNO_06292022_21_16-52-08_cam1.h5\n",
      "Output SLEAP dataset: C:\\Users\\shantanu.ray\\Downloads\\data\\Ayesha_local\\Ayesha\\sleap_ropepull_cam1\\predictions\\CFL14_saline_06282022_23_15-25-41_cam1.h5\n"
     ]
    }
   ],
   "source": [
    "for in_filename in input_files:\n",
    "    out_filename = extract_prefix(in_filename, delim_pattern = r'\\.mp4') + ext\n",
    "    convert(in_filename, out_filename, format=conversion_format)"
   ]
  },
  {
   "cell_type": "code",
   "execution_count": null,
   "id": "a526dd66-2700-4a4a-a707-84881fbd9a72",
   "metadata": {},
   "outputs": [],
   "source": []
  }
 ],
 "metadata": {
  "kernelspec": {
   "display_name": "sleap-convert",
   "language": "python",
   "name": "sleap-convert"
  },
  "language_info": {
   "codemirror_mode": {
    "name": "ipython",
    "version": 3
   },
   "file_extension": ".py",
   "mimetype": "text/x-python",
   "name": "python",
   "nbconvert_exporter": "python",
   "pygments_lexer": "ipython3",
   "version": "3.8.10"
  }
 },
 "nbformat": 4,
 "nbformat_minor": 5
}
