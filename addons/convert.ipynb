{
 "cells": [
  {
   "cell_type": "markdown",
   "id": "4b052c65-1eaa-474d-838b-36d94f023a8c",
   "metadata": {},
   "source": [
    "### Initialize Input Path with slp files"
   ]
  },
  {
   "cell_type": "code",
   "execution_count": 1,
   "id": "774f0af0-12e2-4469-a95b-1c076d3de00b",
   "metadata": {},
   "outputs": [],
   "source": [
    "input_path = 'C:\\\\Users\\shantanu.ray\\Downloads\\data\\Ayesha_local\\Ayesha\\sleap_ropepull_cam1\\predictions'"
   ]
  },
  {
   "cell_type": "code",
   "execution_count": 2,
   "id": "79bac4ae-33b2-47a5-a07f-747a87344dfb",
   "metadata": {},
   "outputs": [],
   "source": [
    "input_file_pattern = r'.*\\.slp'"
   ]
  },
  {
   "cell_type": "code",
   "execution_count": 3,
   "id": "46d2d0e9-c85f-498e-96f3-a5062b55ab67",
   "metadata": {},
   "outputs": [],
   "source": [
    "from utils import get_files"
   ]
  },
  {
   "cell_type": "code",
   "execution_count": 4,
   "id": "ce569fd4-7d03-4fbe-ada8-5c2f7884e505",
   "metadata": {},
   "outputs": [
    {
     "name": "stdout",
     "output_type": "stream",
     "text": [
      "['C:\\\\Users\\\\shantanu.ray\\\\Downloads\\\\data\\\\Ayesha_local\\\\Ayesha\\\\sleap_ropepull_cam1\\\\predictions\\\\CFL13_06272022_saline_9_15-25-10_cam1.mp4.220809_151107.predictions.slp', 'C:\\\\Users\\\\shantanu.ray\\\\Downloads\\\\data\\\\Ayesha_local\\\\Ayesha\\\\sleap_ropepull_cam1\\\\predictions\\\\CFL13_CNO_06282022_10_15-58-44_cam1.mp4.220809_151136.predictions.slp', 'C:\\\\Users\\\\shantanu.ray\\\\Downloads\\\\data\\\\Ayesha_local\\\\Ayesha\\\\sleap_ropepull_cam1\\\\predictions\\\\CFL14_CNO_06292022_21_16-52-08_cam1.mp4.220809_151205.predictions.slp', 'C:\\\\Users\\\\shantanu.ray\\\\Downloads\\\\data\\\\Ayesha_local\\\\Ayesha\\\\sleap_ropepull_cam1\\\\predictions\\\\CFL14_saline_06282022_23_15-25-41_cam1.mp4.220809_151234.predictions.slp']\n"
     ]
    }
   ],
   "source": [
    "input_files = get_files(input_path, input_file_pattern)\n",
    "print(input_files)"
   ]
  },
  {
   "cell_type": "markdown",
   "id": "c688e760-6b6b-4610-b388-59999f916a49",
   "metadata": {},
   "source": [
    "### Select appropriate conversion type"
   ]
  },
  {
   "cell_type": "code",
   "execution_count": 18,
   "id": "4466684c-600a-4915-8871-f07502fa9853",
   "metadata": {},
   "outputs": [],
   "source": [
    "conversion_format = 'analysis'\n",
    "assert conversion_format in ['h5', 'slp', 'json', 'analysis'], f'Incorrect conversion format {format}'\n",
    "if conversion_format == 'analysis':\n",
    "    ext = '.analysis.h5'\n",
    "else:\n",
    "    ext = '.' + conversion_format"
   ]
  },
  {
   "cell_type": "markdown",
   "id": "96d0357f-e5c7-4582-9333-cb4a26f6e1a0",
   "metadata": {},
   "source": [
    "### Select save location"
   ]
  },
  {
   "cell_type": "code",
   "execution_count": 19,
   "id": "8556e656-0943-469e-862c-832044e43cfe",
   "metadata": {},
   "outputs": [],
   "source": [
    "from os.path import split, exists, join\n",
    "from os import mkdir"
   ]
  },
  {
   "cell_type": "code",
   "execution_count": 20,
   "id": "b31fca65-1845-43de-84f6-4d81235396f3",
   "metadata": {},
   "outputs": [],
   "source": [
    "out_path = 'C:\\\\Users\\shantanu.ray\\Downloads\\data\\Ayesha_local\\Ayesha\\sleap_ropepull_cam1\\save'\n",
    "# if save location does not exist, create it\n",
    "if not exists(out_path):\n",
    "    mkdir(out_path)"
   ]
  },
  {
   "cell_type": "markdown",
   "id": "bd6c5cde-e95e-49cf-8eb3-b8b4e44bae02",
   "metadata": {},
   "source": [
    "### Run conversion"
   ]
  },
  {
   "cell_type": "code",
   "execution_count": 21,
   "id": "1ffc5fc5-e91a-4b81-97b8-aedbe1c84751",
   "metadata": {},
   "outputs": [],
   "source": [
    "from utils import extract_prefix, extract_match\n",
    "from io_sleap import convert"
   ]
  },
  {
   "cell_type": "code",
   "execution_count": 22,
   "id": "0e7a57db-b6dd-415d-8a46-5e37f5585a5a",
   "metadata": {},
   "outputs": [
    {
     "name": "stdout",
     "output_type": "stream",
     "text": [
      "track_names: 1\n",
      "node_names: 11\n",
      "edge_names: 7\n",
      "edge_inds: 7\n",
      "tracks: (1600, 11, 2, 1)\n",
      "track_occupancy: (1, 1600)\n",
      "point_scores: (1600, 11, 1)\n",
      "instance_scores: (1600, 1)\n",
      "tracking_scores: (1600, 1)\n",
      "labels_path: C:\\Users\\shantanu.ray\\Downloads\\data\\Ayesha_local\\Ayesha\\sleap_ropepull_cam1\\predictions\\CFL13_06272022_saline_9_15-25-10_cam1.mp4.220809_151107.predictions.slp\n",
      "video_path: D:/Ayesha_local/RP_SLEAP_trainingVideos/cam1/CFL13_06272022_saline_9_15-25-10_cam1.mp4\n",
      "video_ind: 0\n",
      "provenance: {\"sleap_version\": \"1.2.4\", \"platform\": \"Windows-10-10.0.19041-SP0\", \"command\": \"C:\\\\Users\\\\MNL-E\\\\anaconda3\\\\envs\\\\sleap\\\\Scripts\\\\sleap-track D:/Ayesha_local/RP_SLEAP_trainingVideos/cam1/CFL13_06272022_saline_9_15-25-10_cam1.mp4 --frames 0,-1599 -m D:/Ayesha_local/sleap_ropepull_cam1\\\\models\\\\cam1_MATD_ITR12220809_125904.centroid.n=1089\\\\training_config.json -m D:/Ayesha_local/sleap_ropepull_cam1\\\\models\\\\cam1_MATD_ITR12220809_132248.centered_instance.n=1089\\\\training_config.json --tracking.tracker simple --tracking.pre_cull_to_target 0 --tracking.pre_cull_iou_threshold 0.8 --tracking.similarity iou --tracking.match hungarian --tracking.track_window 5 --tracking.post_connect_single_breaks 0 -o D:/Ayesha_local/sleap_ropepull_cam1\\\\predictions\\\\CFL13_06272022_saline_9_15-25-10_cam1.mp4.220809_151107.predictions.slp --verbosity json --no-empty-frames\", \"data_path\": \"D:/Ayesha_local/RP_SLEAP_trainingVideos/cam1/CFL13_06272022_saline_9_15-25-10_cam1.mp4\", \"model_paths\": [\"D:/Ayesha_local/sleap_ropepull_cam1\\\\models\\\\cam1_MATD_ITR12220809_125904.centroid.n=1089\\\\training_config.json\", \"D:/Ayesha_local/sleap_ropepull_cam1\\\\models\\\\cam1_MATD_ITR12220809_132248.centered_instance.n=1089\\\\training_config.json\"], \"output_path\": \"D:/Ayesha_local/sleap_ropepull_cam1\\\\predictions\\\\CFL13_06272022_saline_9_15-25-10_cam1.mp4.220809_151107.predictions.slp\", \"predictor\": \"TopDownPredictor\", \"total_elapsed\": 23.981675148010254, \"start_timestamp\": \"2022-08-09 15:11:11.578070\", \"finish_timestamp\": \"2022-08-09 15:11:35.559745\", \"args\": {\"data_path\": \"D:/Ayesha_local/RP_SLEAP_trainingVideos/cam1/CFL13_06272022_saline_9_15-25-10_cam1.mp4\", \"models\": [\"D:/Ayesha_local/sleap_ropepull_cam1\\\\models\\\\cam1_MATD_ITR12220809_125904.centroid.n=1089\\\\training_config.json\", \"D:/Ayesha_local/sleap_ropepull_cam1\\\\models\\\\cam1_MATD_ITR12220809_132248.centered_instance.n=1089\\\\training_config.json\"], \"frames\": \"0,-1599\", \"only_labeled_frames\": false, \"only_suggested_frames\": false, \"output\": \"D:/Ayesha_local/sleap_ropepull_cam1\\\\predictions\\\\CFL13_06272022_saline_9_15-25-10_cam1.mp4.220809_151107.predictions.slp\", \"no_empty_frames\": true, \"verbosity\": \"json\", \"video.dataset\": null, \"video.input_format\": \"channels_last\", \"cpu\": false, \"first_gpu\": false, \"last_gpu\": false, \"gpu\": 0, \"max_edge_length_ratio\": 0.25, \"dist_penalty_weight\": 1.0, \"batch_size\": 4, \"open_in_gui\": false, \"peak_threshold\": 0.2, \"tracking.tracker\": \"simple\", \"tracking.target_instance_count\": null, \"tracking.pre_cull_to_target\": 0, \"tracking.pre_cull_iou_threshold\": 0.8, \"tracking.post_connect_single_breaks\": 0, \"tracking.clean_instance_count\": null, \"tracking.clean_iou_threshold\": null, \"tracking.similarity\": \"iou\", \"tracking.match\": \"hungarian\", \"tracking.track_window\": 5, \"tracking.min_new_track_points\": null, \"tracking.min_match_points\": null, \"tracking.img_scale\": null, \"tracking.of_window_size\": null, \"tracking.of_max_levels\": null, \"tracking.kf_node_indices\": null, \"tracking.kf_init_frame_count\": null}}\n",
      "Saved as C:\\Users\\shantanu.ray\\Downloads\\data\\Ayesha_local\\Ayesha\\sleap_ropepull_cam1\\save\\CFL13_06272022_saline_9_15-25-10_cam1.analysis.h5\n",
      "track_names: 1\n",
      "node_names: 11\n",
      "edge_names: 7\n",
      "edge_inds: 7\n",
      "tracks: (1600, 11, 2, 1)\n",
      "track_occupancy: (1, 1600)\n",
      "point_scores: (1600, 11, 1)\n",
      "instance_scores: (1600, 1)\n",
      "tracking_scores: (1600, 1)\n",
      "labels_path: C:\\Users\\shantanu.ray\\Downloads\\data\\Ayesha_local\\Ayesha\\sleap_ropepull_cam1\\predictions\\CFL13_CNO_06282022_10_15-58-44_cam1.mp4.220809_151136.predictions.slp\n",
      "video_path: D:/Ayesha_local/RP_SLEAP_trainingVideos/cam1/CFL13_CNO_06282022_10_15-58-44_cam1.mp4\n",
      "video_ind: 0\n",
      "provenance: {\"sleap_version\": \"1.2.4\", \"platform\": \"Windows-10-10.0.19041-SP0\", \"command\": \"C:\\\\Users\\\\MNL-E\\\\anaconda3\\\\envs\\\\sleap\\\\Scripts\\\\sleap-track D:/Ayesha_local/RP_SLEAP_trainingVideos/cam1/CFL13_CNO_06282022_10_15-58-44_cam1.mp4 --frames 0,-1599 -m D:/Ayesha_local/sleap_ropepull_cam1\\\\models\\\\cam1_MATD_ITR12220809_125904.centroid.n=1089\\\\training_config.json -m D:/Ayesha_local/sleap_ropepull_cam1\\\\models\\\\cam1_MATD_ITR12220809_132248.centered_instance.n=1089\\\\training_config.json --tracking.tracker simple --tracking.pre_cull_to_target 0 --tracking.pre_cull_iou_threshold 0.8 --tracking.similarity iou --tracking.match hungarian --tracking.track_window 5 --tracking.post_connect_single_breaks 0 -o D:/Ayesha_local/sleap_ropepull_cam1\\\\predictions\\\\CFL13_CNO_06282022_10_15-58-44_cam1.mp4.220809_151136.predictions.slp --verbosity json --no-empty-frames\", \"data_path\": \"D:/Ayesha_local/RP_SLEAP_trainingVideos/cam1/CFL13_CNO_06282022_10_15-58-44_cam1.mp4\", \"model_paths\": [\"D:/Ayesha_local/sleap_ropepull_cam1\\\\models\\\\cam1_MATD_ITR12220809_125904.centroid.n=1089\\\\training_config.json\", \"D:/Ayesha_local/sleap_ropepull_cam1\\\\models\\\\cam1_MATD_ITR12220809_132248.centered_instance.n=1089\\\\training_config.json\"], \"output_path\": \"D:/Ayesha_local/sleap_ropepull_cam1\\\\predictions\\\\CFL13_CNO_06282022_10_15-58-44_cam1.mp4.220809_151136.predictions.slp\", \"predictor\": \"TopDownPredictor\", \"total_elapsed\": 23.99744963645935, \"start_timestamp\": \"2022-08-09 15:11:40.246758\", \"finish_timestamp\": \"2022-08-09 15:12:04.244207\", \"args\": {\"data_path\": \"D:/Ayesha_local/RP_SLEAP_trainingVideos/cam1/CFL13_CNO_06282022_10_15-58-44_cam1.mp4\", \"models\": [\"D:/Ayesha_local/sleap_ropepull_cam1\\\\models\\\\cam1_MATD_ITR12220809_125904.centroid.n=1089\\\\training_config.json\", \"D:/Ayesha_local/sleap_ropepull_cam1\\\\models\\\\cam1_MATD_ITR12220809_132248.centered_instance.n=1089\\\\training_config.json\"], \"frames\": \"0,-1599\", \"only_labeled_frames\": false, \"only_suggested_frames\": false, \"output\": \"D:/Ayesha_local/sleap_ropepull_cam1\\\\predictions\\\\CFL13_CNO_06282022_10_15-58-44_cam1.mp4.220809_151136.predictions.slp\", \"no_empty_frames\": true, \"verbosity\": \"json\", \"video.dataset\": null, \"video.input_format\": \"channels_last\", \"cpu\": false, \"first_gpu\": false, \"last_gpu\": false, \"gpu\": 0, \"max_edge_length_ratio\": 0.25, \"dist_penalty_weight\": 1.0, \"batch_size\": 4, \"open_in_gui\": false, \"peak_threshold\": 0.2, \"tracking.tracker\": \"simple\", \"tracking.target_instance_count\": null, \"tracking.pre_cull_to_target\": 0, \"tracking.pre_cull_iou_threshold\": 0.8, \"tracking.post_connect_single_breaks\": 0, \"tracking.clean_instance_count\": null, \"tracking.clean_iou_threshold\": null, \"tracking.similarity\": \"iou\", \"tracking.match\": \"hungarian\", \"tracking.track_window\": 5, \"tracking.min_new_track_points\": null, \"tracking.min_match_points\": null, \"tracking.img_scale\": null, \"tracking.of_window_size\": null, \"tracking.of_max_levels\": null, \"tracking.kf_node_indices\": null, \"tracking.kf_init_frame_count\": null}}\n",
      "Saved as C:\\Users\\shantanu.ray\\Downloads\\data\\Ayesha_local\\Ayesha\\sleap_ropepull_cam1\\save\\CFL13_CNO_06282022_10_15-58-44_cam1.analysis.h5\n",
      "track_names: 1\n",
      "node_names: 11\n",
      "edge_names: 7\n",
      "edge_inds: 7\n",
      "tracks: (1600, 11, 2, 1)\n",
      "track_occupancy: (1, 1600)\n",
      "point_scores: (1600, 11, 1)\n",
      "instance_scores: (1600, 1)\n",
      "tracking_scores: (1600, 1)\n",
      "labels_path: C:\\Users\\shantanu.ray\\Downloads\\data\\Ayesha_local\\Ayesha\\sleap_ropepull_cam1\\predictions\\CFL14_CNO_06292022_21_16-52-08_cam1.mp4.220809_151205.predictions.slp\n",
      "video_path: D:/Ayesha_local/RP_SLEAP_trainingVideos/cam1/CFL14_CNO_06292022_21_16-52-08_cam1.mp4\n",
      "video_ind: 0\n",
      "provenance: {\"sleap_version\": \"1.2.4\", \"platform\": \"Windows-10-10.0.19041-SP0\", \"command\": \"C:\\\\Users\\\\MNL-E\\\\anaconda3\\\\envs\\\\sleap\\\\Scripts\\\\sleap-track D:/Ayesha_local/RP_SLEAP_trainingVideos/cam1/CFL14_CNO_06292022_21_16-52-08_cam1.mp4 --frames 0,-1599 -m D:/Ayesha_local/sleap_ropepull_cam1\\\\models\\\\cam1_MATD_ITR12220809_125904.centroid.n=1089\\\\training_config.json -m D:/Ayesha_local/sleap_ropepull_cam1\\\\models\\\\cam1_MATD_ITR12220809_132248.centered_instance.n=1089\\\\training_config.json --tracking.tracker simple --tracking.pre_cull_to_target 0 --tracking.pre_cull_iou_threshold 0.8 --tracking.similarity iou --tracking.match hungarian --tracking.track_window 5 --tracking.post_connect_single_breaks 0 -o D:/Ayesha_local/sleap_ropepull_cam1\\\\predictions\\\\CFL14_CNO_06292022_21_16-52-08_cam1.mp4.220809_151205.predictions.slp --verbosity json --no-empty-frames\", \"data_path\": \"D:/Ayesha_local/RP_SLEAP_trainingVideos/cam1/CFL14_CNO_06292022_21_16-52-08_cam1.mp4\", \"model_paths\": [\"D:/Ayesha_local/sleap_ropepull_cam1\\\\models\\\\cam1_MATD_ITR12220809_125904.centroid.n=1089\\\\training_config.json\", \"D:/Ayesha_local/sleap_ropepull_cam1\\\\models\\\\cam1_MATD_ITR12220809_132248.centered_instance.n=1089\\\\training_config.json\"], \"output_path\": \"D:/Ayesha_local/sleap_ropepull_cam1\\\\predictions\\\\CFL14_CNO_06292022_21_16-52-08_cam1.mp4.220809_151205.predictions.slp\", \"predictor\": \"TopDownPredictor\", \"total_elapsed\": 24.196439027786255, \"start_timestamp\": \"2022-08-09 15:12:08.930244\", \"finish_timestamp\": \"2022-08-09 15:12:33.126683\", \"args\": {\"data_path\": \"D:/Ayesha_local/RP_SLEAP_trainingVideos/cam1/CFL14_CNO_06292022_21_16-52-08_cam1.mp4\", \"models\": [\"D:/Ayesha_local/sleap_ropepull_cam1\\\\models\\\\cam1_MATD_ITR12220809_125904.centroid.n=1089\\\\training_config.json\", \"D:/Ayesha_local/sleap_ropepull_cam1\\\\models\\\\cam1_MATD_ITR12220809_132248.centered_instance.n=1089\\\\training_config.json\"], \"frames\": \"0,-1599\", \"only_labeled_frames\": false, \"only_suggested_frames\": false, \"output\": \"D:/Ayesha_local/sleap_ropepull_cam1\\\\predictions\\\\CFL14_CNO_06292022_21_16-52-08_cam1.mp4.220809_151205.predictions.slp\", \"no_empty_frames\": true, \"verbosity\": \"json\", \"video.dataset\": null, \"video.input_format\": \"channels_last\", \"cpu\": false, \"first_gpu\": false, \"last_gpu\": false, \"gpu\": 0, \"max_edge_length_ratio\": 0.25, \"dist_penalty_weight\": 1.0, \"batch_size\": 4, \"open_in_gui\": false, \"peak_threshold\": 0.2, \"tracking.tracker\": \"simple\", \"tracking.target_instance_count\": null, \"tracking.pre_cull_to_target\": 0, \"tracking.pre_cull_iou_threshold\": 0.8, \"tracking.post_connect_single_breaks\": 0, \"tracking.clean_instance_count\": null, \"tracking.clean_iou_threshold\": null, \"tracking.similarity\": \"iou\", \"tracking.match\": \"hungarian\", \"tracking.track_window\": 5, \"tracking.min_new_track_points\": null, \"tracking.min_match_points\": null, \"tracking.img_scale\": null, \"tracking.of_window_size\": null, \"tracking.of_max_levels\": null, \"tracking.kf_node_indices\": null, \"tracking.kf_init_frame_count\": null}}\n",
      "Saved as C:\\Users\\shantanu.ray\\Downloads\\data\\Ayesha_local\\Ayesha\\sleap_ropepull_cam1\\save\\CFL14_CNO_06292022_21_16-52-08_cam1.analysis.h5\n",
      "track_names: 1\n",
      "node_names: 11\n",
      "edge_names: 7\n",
      "edge_inds: 7\n",
      "tracks: (1600, 11, 2, 1)\n",
      "track_occupancy: (1, 1600)\n",
      "point_scores: (1600, 11, 1)\n",
      "instance_scores: (1600, 1)\n",
      "tracking_scores: (1600, 1)\n",
      "labels_path: C:\\Users\\shantanu.ray\\Downloads\\data\\Ayesha_local\\Ayesha\\sleap_ropepull_cam1\\predictions\\CFL14_saline_06282022_23_15-25-41_cam1.mp4.220809_151234.predictions.slp\n",
      "video_path: D:/Ayesha_local/RP_SLEAP_trainingVideos/cam1/CFL14_saline_06282022_23_15-25-41_cam1.mp4\n",
      "video_ind: 0\n",
      "provenance: {\"sleap_version\": \"1.2.4\", \"platform\": \"Windows-10-10.0.19041-SP0\", \"command\": \"C:\\\\Users\\\\MNL-E\\\\anaconda3\\\\envs\\\\sleap\\\\Scripts\\\\sleap-track D:/Ayesha_local/RP_SLEAP_trainingVideos/cam1/CFL14_saline_06282022_23_15-25-41_cam1.mp4 --frames 0,-1599 -m D:/Ayesha_local/sleap_ropepull_cam1\\\\models\\\\cam1_MATD_ITR12220809_125904.centroid.n=1089\\\\training_config.json -m D:/Ayesha_local/sleap_ropepull_cam1\\\\models\\\\cam1_MATD_ITR12220809_132248.centered_instance.n=1089\\\\training_config.json --tracking.tracker simple --tracking.pre_cull_to_target 0 --tracking.pre_cull_iou_threshold 0.8 --tracking.similarity iou --tracking.match hungarian --tracking.track_window 5 --tracking.post_connect_single_breaks 0 -o D:/Ayesha_local/sleap_ropepull_cam1\\\\predictions\\\\CFL14_saline_06282022_23_15-25-41_cam1.mp4.220809_151234.predictions.slp --verbosity json --no-empty-frames\", \"data_path\": \"D:/Ayesha_local/RP_SLEAP_trainingVideos/cam1/CFL14_saline_06282022_23_15-25-41_cam1.mp4\", \"model_paths\": [\"D:/Ayesha_local/sleap_ropepull_cam1\\\\models\\\\cam1_MATD_ITR12220809_125904.centroid.n=1089\\\\training_config.json\", \"D:/Ayesha_local/sleap_ropepull_cam1\\\\models\\\\cam1_MATD_ITR12220809_132248.centered_instance.n=1089\\\\training_config.json\"], \"output_path\": \"D:/Ayesha_local/sleap_ropepull_cam1\\\\predictions\\\\CFL14_saline_06282022_23_15-25-41_cam1.mp4.220809_151234.predictions.slp\", \"predictor\": \"TopDownPredictor\", \"total_elapsed\": 24.040786504745483, \"start_timestamp\": \"2022-08-09 15:12:37.810566\", \"finish_timestamp\": \"2022-08-09 15:13:01.851353\", \"args\": {\"data_path\": \"D:/Ayesha_local/RP_SLEAP_trainingVideos/cam1/CFL14_saline_06282022_23_15-25-41_cam1.mp4\", \"models\": [\"D:/Ayesha_local/sleap_ropepull_cam1\\\\models\\\\cam1_MATD_ITR12220809_125904.centroid.n=1089\\\\training_config.json\", \"D:/Ayesha_local/sleap_ropepull_cam1\\\\models\\\\cam1_MATD_ITR12220809_132248.centered_instance.n=1089\\\\training_config.json\"], \"frames\": \"0,-1599\", \"only_labeled_frames\": false, \"only_suggested_frames\": false, \"output\": \"D:/Ayesha_local/sleap_ropepull_cam1\\\\predictions\\\\CFL14_saline_06282022_23_15-25-41_cam1.mp4.220809_151234.predictions.slp\", \"no_empty_frames\": true, \"verbosity\": \"json\", \"video.dataset\": null, \"video.input_format\": \"channels_last\", \"cpu\": false, \"first_gpu\": false, \"last_gpu\": false, \"gpu\": 0, \"max_edge_length_ratio\": 0.25, \"dist_penalty_weight\": 1.0, \"batch_size\": 4, \"open_in_gui\": false, \"peak_threshold\": 0.2, \"tracking.tracker\": \"simple\", \"tracking.target_instance_count\": null, \"tracking.pre_cull_to_target\": 0, \"tracking.pre_cull_iou_threshold\": 0.8, \"tracking.post_connect_single_breaks\": 0, \"tracking.clean_instance_count\": null, \"tracking.clean_iou_threshold\": null, \"tracking.similarity\": \"iou\", \"tracking.match\": \"hungarian\", \"tracking.track_window\": 5, \"tracking.min_new_track_points\": null, \"tracking.min_match_points\": null, \"tracking.img_scale\": null, \"tracking.of_window_size\": null, \"tracking.of_max_levels\": null, \"tracking.kf_node_indices\": null, \"tracking.kf_init_frame_count\": null}}\n",
      "Saved as C:\\Users\\shantanu.ray\\Downloads\\data\\Ayesha_local\\Ayesha\\sleap_ropepull_cam1\\save\\CFL14_saline_06282022_23_15-25-41_cam1.analysis.h5\n"
     ]
    }
   ],
   "source": [
    "for in_filepath in input_files:\n",
    "    _, in_filename = split(in_filepath)\n",
    "    out_filename = extract_match(in_filename, pattern = r'.*_cam\\d+') + ext\n",
    "    out_filepath = join(out_path, out_filename)\n",
    "    convert(in_filepath, out_filepath, format=conversion_format)"
   ]
  },
  {
   "cell_type": "code",
   "execution_count": null,
   "id": "a34cda8f-c5e2-49c9-a7ee-c0e75d0611f9",
   "metadata": {},
   "outputs": [],
   "source": []
  }
 ],
 "metadata": {
  "kernelspec": {
   "display_name": "sleap-convert",
   "language": "python",
   "name": "sleap-convert"
  },
  "language_info": {
   "codemirror_mode": {
    "name": "ipython",
    "version": 3
   },
   "file_extension": ".py",
   "mimetype": "text/x-python",
   "name": "python",
   "nbconvert_exporter": "python",
   "pygments_lexer": "ipython3",
   "version": "3.8.10"
  }
 },
 "nbformat": 4,
 "nbformat_minor": 5
}
