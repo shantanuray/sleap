{
 "cells": [
  {
   "cell_type": "markdown",
   "id": "b70a1569-b042-4bfd-b05c-9a6f8ba572fa",
   "metadata": {},
   "source": [
    "# 3D Triangulation for hdf5 files for a session\n",
    "Triangulate the 3D locations of animals using [anipose](https://anipose.readthedocs.io/en/latest/index.html)<br>\n",
    "We start with the tracked 2D locations of the animals, stored in separate hdf5 files for each camera view, along with pre-computed calibration configuration.<br>"
   ]
  },
  {
   "cell_type": "markdown",
   "id": "e376fe23-c23e-4a0f-9216-8214de9e6f3c",
   "metadata": {},
   "source": [
    "# Imports"
   ]
  },
  {
   "cell_type": "code",
   "execution_count": 32,
   "id": "0d626ba5-7975-4f8f-b29e-598a8db55a2f",
   "metadata": {
    "scrolled": true
   },
   "outputs": [],
   "source": [
    "# Generic imports\n",
    "from os import listdir\n",
    "from os.path import join, split\n",
    "import numpy as np \n",
    "import matplotlib.pyplot as plt \n",
    "import h5py\n",
    "import re\n",
    "from scipy.io import savemat\n",
    "import importlib\n",
    "from IPython.utils import io"
   ]
  },
  {
   "cell_type": "code",
   "execution_count": 9,
   "id": "28054925-5e55-4bc8-aa12-9eeb3c569ba1",
   "metadata": {
    "scrolled": true
   },
   "outputs": [],
   "source": [
    "# Custom libraries \n",
    "spec = importlib.util.find_spec('aniposelib')\n",
    "if spec is None:\n",
    "    #print(package_name +\" is not installed\")\n",
    "    !python -m pip install --user aniposelib\n",
    "from aniposelib.cameras import CameraGroup\n",
    "from preprocessing import get_2d_poses\n",
    "from triangulation import TriangulationMethod, get_3d_poses"
   ]
  },
  {
   "cell_type": "markdown",
   "id": "1bb7f931-e1e7-4580-a244-8d8526dde90c",
   "metadata": {},
   "source": [
    "### Init variables"
   ]
  },
  {
   "cell_type": "code",
   "execution_count": 31,
   "id": "307b8b8c-88a1-47dd-8cd7-8b60aff069bf",
   "metadata": {},
   "outputs": [],
   "source": [
    "# Init path with session data\n",
    "session_filepath = 'C:\\\\Users\\\\shantanu.ray\\\\Downloads'\n",
    "_, session_name = split(session_filepath)\n",
    "save_filepath = 'C:\\\\Users\\\\shantanu.ray\\\\Downloads'\n",
    "# Camera name in the h5 file (must be the same for a given session)\n",
    "camera_ids = ['cam1','cam2','cam3']\n",
    "# Pre-computed calibration file (must be the same for a given session)\n",
    "calibration_file = 'C:\\\\Users\\\\shantanu.ray\\\\projects\\\\sleap\\\\addons\\\\calibration.toml'"
   ]
  },
  {
   "cell_type": "markdown",
   "id": "425453ba-0a66-424a-8f1f-e805c80f0bbc",
   "metadata": {},
   "source": [
    "### Init triangulation parameters"
   ]
  },
  {
   "cell_type": "code",
   "execution_count": 20,
   "id": "8919a4d3-65f4-4df6-a398-9ab86527ab86",
   "metadata": {},
   "outputs": [],
   "source": [
    "# Choose triangulation method\n",
    "triangulate = TriangulationMethod.calibrated_dtl\n",
    "refine_calibration = True\n",
    "show_progress = False"
   ]
  },
  {
   "cell_type": "markdown",
   "id": "e813394b-8696-469c-b867-0b05084571b8",
   "metadata": {},
   "source": [
    "### Find hdf5 files"
   ]
  },
  {
   "cell_type": "code",
   "execution_count": 11,
   "id": "fddf551d-3e30-4e14-a788-9ebdbaffa78a",
   "metadata": {},
   "outputs": [
    {
     "name": "stdout",
     "output_type": "stream",
     "text": [
      "['CFL12_04072022_CNO_27_14-39-25_cam1.analysis.h5', 'CFL12_04072022_CNO_27_14-39-25_cam2.analysis.h5', 'CFL12_04072022_CNO_27_14-39-25_cam3.analysis.h5', 'CFL12_04072022_saline_27_14-39-24_cam1.analysis.h5', 'CFL12_04072022_saline_27_14-39-24_cam2.analysis.h5', 'CFL12_04072022_saline_27_14-39-24_cam3.analysis.h5']\n"
     ]
    }
   ],
   "source": [
    "h5_regex = re.compile('.*cam.*.h5')\n",
    "file_list = list(filter(h5_regex.match, listdir(session_filepath)))\n",
    "print('Read files from session path')\n",
    "print(file_list)"
   ]
  },
  {
   "cell_type": "markdown",
   "id": "784b2f81-d10d-4aab-bae1-e9be4aadd9da",
   "metadata": {},
   "source": [
    "### Find groups of marker data for a given trial for all 3 cameras\n",
    "\n",
    "Use cam1 as an indicator of the trial\n",
    "\n",
    "Assumption: All files for a given session have a similar name except cam1 being replaced by cam2,3"
   ]
  },
  {
   "cell_type": "code",
   "execution_count": 23,
   "id": "6b24c659-bad6-4021-8167-540f6d5dd9a4",
   "metadata": {},
   "outputs": [],
   "source": [
    "cam1_regex = re.compile(f'.*{camera_ids[0]}.*.h5')\n",
    "cam1_file_list = list(filter(cam1_regex.match, file_list))"
   ]
  },
  {
   "cell_type": "markdown",
   "id": "12a35419-a5f8-495f-9fc5-b059ee7a2a72",
   "metadata": {},
   "source": [
    "# Loading Data for Trial"
   ]
  },
  {
   "cell_type": "code",
   "execution_count": 37,
   "id": "c1df94d3-eec0-4470-998c-7900eb513ad8",
   "metadata": {},
   "outputs": [
    {
     "name": "stdout",
     "output_type": "stream",
     "text": [
      "Processing CFL12_04072022_CNO_27_14-39-25.analysis.h5\n",
      "2D Data shape (3, 1600, 11, 2, 1)\n",
      "3D Data shape (1600, 11, 3, 1)\n",
      "Saving pose 3d to C:\\Users\\shantanu.ray\\Downloads\\CFL12_04072022_CNO_27_14-39-25.analysis.mat\n",
      "Processing CFL12_04072022_saline_27_14-39-24.analysis.h5\n",
      "2D Data shape (3, 1600, 11, 2, 1)\n",
      "3D Data shape (1600, 11, 3, 1)\n",
      "Saving pose 3d to C:\\Users\\shantanu.ray\\Downloads\\CFL12_04072022_saline_27_14-39-24.analysis.mat\n"
     ]
    }
   ],
   "source": [
    "for cam1_file in cam1_file_list:\n",
    "    trial_name = cam1_file.replace('_' + camera_ids[0], '')\n",
    "    print(f'Processing {trial_name}')\n",
    "    # Get files for camera group (cam1,2,3) for a given trial\n",
    "    cam_group = [cam1_file.replace(camera_ids[0], cam_idx) for cam_idx in camera_ids]\n",
    "    \"\"\"Get 2D data.\"\"\"\n",
    "    # The get_2D_poses function returns 2D tracks for a single file at a time,\n",
    "    # so we append all the tracks to a list and then stack the 2D tracks on top of each other. \n",
    "    pose2d = [get_2d_poses(join(session_filepath, file)) for file in cam_group]\n",
    "    pose2d = np.stack(pose2d, axis=0)[:, :]\n",
    "\n",
    "    n_cams, n_frames, n_nodes, _, n_tracks = pose2d.shape\n",
    "    print('2D Data shape', pose2d.shape) # (n_cams, n_sampled_frames, n_keypoints, 2, # tracks)\n",
    "    \"\"\"Get 3D data from triangulation.\"\"\"\n",
    "    \"\"\"Aniposelib gives us the option to triangulate with the direct linear transformation (DLT) or with RANSAC,\n",
    "    which adds an outlier rejection subroutine to the DLT. <br>\n",
    "    In addition to these 2 triangulation methods, we can further refine the 3D points via direct optimization\n",
    "    of the reprojection error.\n",
    "    def get_3d_poses(\n",
    "                    poses_2d: list,\n",
    "                    camera_mats: list = [],\n",
    "                    calibration_filepath: str = None,\n",
    "                    triangulate: TriangulationMethod = TriangulationMethod.simple,\n",
    "                    refine_calibration: bool = False,\n",
    "                    show_progress: bool = False\n",
    "                    ) -> np.ndarray\n",
    "    Args:\n",
    "        poses_2d: A length # cameras list of pose matrices for a single animal. Each pose matrix is of \n",
    "        shape (# frames, # nodes, 2, # tracks).\n",
    "        \n",
    "        camera_mats: A length # cameras list of camera matrices. Each camera matrix is a (3,4) ndarray. \n",
    "        Note that the camera matrices and pose_2d matrices have to be ordered in a corresponding fashion.\n",
    "        or\n",
    "        calibration_filepath: Filepath to calibration.toml\n",
    "\n",
    "        triangulate: Triangulation method\n",
    "            - simple: No other options are required\n",
    "            - calibrated_dtl: refine_calibration, show_progress can be passed\n",
    "            - calibrated_ransac: refine_calibration, show_progress can be passed\n",
    "\n",
    "        refine_calibration: bool = False, Use CameraGroup.optim refinement\n",
    "\n",
    "        show_progress: bool = False, Show progress of calibration\n",
    "        \n",
    "    Returns:\n",
    "        poses_3d: A (# frames, # nodes, 3, # tracks) that corresponds to the triangulated 3D points in the world frame. \n",
    "    \"\"\"\n",
    "    with io.capture_output() as captured:\n",
    "        pose3d = get_3d_poses(poses_2d=pose2d,\n",
    "                             calibration_filepath=calibration_file,\n",
    "                             triangulate=triangulate,\n",
    "                             refine_calibration=refine_calibration,\n",
    "                             show_progress=show_progress)\n",
    "    print('3D Data shape', pose3d.shape)\n",
    "    mat_dict = {'session': session_name,\n",
    "                'trial': trial_name.replace('.h5', ''),\n",
    "                'pose3d': pose3d}\n",
    "    mat_file = join(save_filepath, trial_name.replace('.h5', '.mat'))\n",
    "        \n",
    "    print(f'Saving pose 3d to {mat_file}')\n",
    "    savemat(mat_file, mat_dict)"
   ]
  },
  {
   "cell_type": "code",
   "execution_count": null,
   "id": "640d458a-b6f7-4dd3-bfbe-2429e7d6f27e",
   "metadata": {},
   "outputs": [],
   "source": []
  }
 ],
 "metadata": {
  "kernelspec": {
   "display_name": "sleap",
   "language": "python",
   "name": "sleap"
  },
  "language_info": {
   "codemirror_mode": {
    "name": "ipython",
    "version": 3
   },
   "file_extension": ".py",
   "mimetype": "text/x-python",
   "name": "python",
   "nbconvert_exporter": "python",
   "pygments_lexer": "ipython3",
   "version": "3.8.10"
  }
 },
 "nbformat": 4,
 "nbformat_minor": 5
}
