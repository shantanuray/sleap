{
 "cells": [
  {
   "cell_type": "markdown",
   "id": "b70a1569-b042-4bfd-b05c-9a6f8ba572fa",
   "metadata": {},
   "source": [
    "In this notebook we cover how to triangulate the 3D locations of animals using [anipose](https://anipose.readthedocs.io/en/latest/index.html) and [SLEAP](https://sleap.ai/). <br>\n",
    "We start with the tracked 2D locations of the animals, stored in separate hdf5 files for each camera view, along with the videos of the calibration board. <br>\n",
    "We calibrate the camera parameters using th| calibration board videos, and then use those parameters in conjunction with our tracked 2D locations to derive the 3D points. "
   ]
  },
  {
   "cell_type": "markdown",
   "id": "e376fe23-c23e-4a0f-9216-8214de9e6f3c",
   "metadata": {},
   "source": [
    "# Imports"
   ]
  },
  {
   "cell_type": "code",
   "execution_count": 1,
   "id": "0d626ba5-7975-4f8f-b29e-598a8db55a2f",
   "metadata": {
    "scrolled": true
   },
   "outputs": [],
   "source": [
    "# Generic imports "
   ]
  },
  {
   "cell_type": "code",
   "execution_count": 1,
   "id": "5078fbe2-9e86-461a-8600-783a6a65f645",
   "metadata": {
    "scrolled": true
   },
   "outputs": [],
   "source": [
    "import numpy as np \n",
    "import matplotlib.pyplot as plt \n",
    "import h5py "
   ]
  },
  {
   "cell_type": "code",
   "execution_count": 2,
   "id": "8d42c2be-edf6-4362-87d2-d23a59fd6325",
   "metadata": {
    "scrolled": true
   },
   "outputs": [],
   "source": [
    "# SLEAP \n",
    "import importlib.util\n",
    "\n",
    "spec = importlib.util.find_spec('sleap')\n",
    "if spec is None:\n",
    "    #print(package_name +\" is not installed\")\n",
    "    !pip install sleap"
   ]
  },
  {
   "cell_type": "code",
   "execution_count": 3,
   "id": "26253e44-e1af-4fa5-accb-f62f0138a463",
   "metadata": {},
   "outputs": [
    {
     "name": "stdout",
     "output_type": "stream",
     "text": [
      "SLEAP: 1.2.7\n",
      "TensorFlow: 2.8.3\n",
      "Numpy: 1.22.4\n",
      "Python: 3.8.10\n",
      "OS: Windows-10-10.0.19044-SP0\n"
     ]
    }
   ],
   "source": [
    "import sleap\n",
    "sleap.versions()"
   ]
  },
  {
   "cell_type": "code",
   "execution_count": 4,
   "id": "28054925-5e55-4bc8-aa12-9eeb3c569ba1",
   "metadata": {
    "scrolled": true
   },
   "outputs": [],
   "source": [
    "# Aniposelib \n",
    "spec = importlib.util.find_spec('aniposelib')\n",
    "if spec is None:\n",
    "    #print(package_name +\" is not installed\")\n",
    "    !python -m pip install --user aniposelib"
   ]
  },
  {
   "cell_type": "code",
   "execution_count": 5,
   "id": "5b9edc84-dc55-4ad3-98fb-e7afec510356",
   "metadata": {
    "scrolled": true
   },
   "outputs": [],
   "source": [
    "from aniposelib.boards import CharucoBoard, Checkerboard\n",
    "from aniposelib.cameras import Camera, CameraGroup\n",
    "from aniposelib.utils import load_pose2d_fnames"
   ]
  },
  {
   "cell_type": "code",
   "execution_count": 6,
   "id": "ab06bca3",
   "metadata": {},
   "outputs": [],
   "source": [
    "import preprocessing as pre"
   ]
  },
  {
   "cell_type": "markdown",
   "id": "12a35419-a5f8-495f-9fc5-b059ee7a2a72",
   "metadata": {},
   "source": [
    "# Loading Data"
   ]
  },
  {
   "cell_type": "code",
   "execution_count": 7,
   "id": "4ce16c7c-c44c-42e6-adc9-f27511de764b",
   "metadata": {},
   "outputs": [],
   "source": [
    "analysis_files = ['C:\\\\Users\\shantanu.ray\\Downloads\\labels.v001.005_CFL12_04072022_saline_27_14-39-24_cam1.analysis.h5',\n",
    "                  'C:\\\\Users\\shantanu.ray\\Downloads\\labels.v001.001_CFL12_04072022_saline_27_14-39-24_cam2.analysis.h5',\n",
    "                  'C:\\\\Users\\shantanu.ray\\Downloads\\labels.v001.000_CFL12_04072022_saline_27_14-39-24_cam3.analysis.h5']"
   ]
  },
  {
   "cell_type": "code",
   "execution_count": 8,
   "id": "2f1c9888-bab6-4d52-8209-4564cb288fe0",
   "metadata": {},
   "outputs": [],
   "source": [
    "SAMPLE_START = 100\n",
    "SAMPLE_END  = 500"
   ]
  },
  {
   "cell_type": "code",
   "execution_count": 9,
   "id": "c01fb394-9583-4fa9-bad0-913d9d32cf8b",
   "metadata": {},
   "outputs": [
    {
     "name": "stdout",
     "output_type": "stream",
     "text": [
      "Tracks of shape: (1600, 11, 2, 1)\n",
      "\n",
      "Tracks of shape: (1600, 11, 2, 1)\n",
      "\n",
      "Tracks of shape: (1600, 11, 2, 1)\n",
      "\n"
     ]
    },
    {
     "data": {
      "text/plain": [
       "(3, 400, 11, 2, 1)"
      ]
     },
     "execution_count": 9,
     "metadata": {},
     "output_type": "execute_result"
    }
   ],
   "source": [
    "gt = [pre.get_2d_poses(file) for file in analysis_files]\n",
    "gt = np.stack(gt, axis=0)[:, SAMPLE_START:SAMPLE_END]\n",
    "\n",
    "n_cams, n_frames, n_nodes, _, n_tracks = gt.shape\n",
    "gt.shape # (n_cams, n_sampled_frames, n_keypoints, 2, # tracks)"
   ]
  },
  {
   "cell_type": "markdown",
   "id": "0a6ae017-49ee-45b7-bc43-a4d631da7126",
   "metadata": {},
   "source": [
    "The get_2D_poses function returns 2D tracks for a single file at a time, so we append all the tracks to a list and then stack the 2D tracks on top of each other. "
   ]
  },
  {
   "cell_type": "markdown",
   "id": "f486b0b8-5cce-4aa0-b82a-6e8a576c1959",
   "metadata": {},
   "source": [
    "# Calibration"
   ]
  },
  {
   "cell_type": "markdown",
   "id": "79993f4e-2f78-475d-9b7b-8148197b7618",
   "metadata": {},
   "source": [
    "Some of the following code was adapted from the [aniposelib tutorial](https://anipose.readthedocs.io/en/latest/aniposelib-tutorial.html#). "
   ]
  },
  {
   "cell_type": "code",
   "execution_count": 13,
   "id": "d4e37163-a351-48d4-ba8a-e4f9d6cd8dc9",
   "metadata": {
    "scrolled": true
   },
   "outputs": [
    {
     "name": "stdout",
     "output_type": "stream",
     "text": [
      "D:/Ayesha_local/RP_calibration/video1/cam1/calibration_video1_1_11-34-20_cam1.mp4\n"
     ]
    },
    {
     "name": "stderr",
     "output_type": "stream",
     "text": [
      "100%|██████████████████████████| 17781/17781 [01:18<00:00, 226.83it/s]\n"
     ]
    },
    {
     "name": "stdout",
     "output_type": "stream",
     "text": [
      "9609 boards detected\n",
      "D:/Ayesha_local/RP_calibration/video1/cam2/calibration_video1_1_11-34-20_cam2.mp4\n"
     ]
    },
    {
     "name": "stderr",
     "output_type": "stream",
     "text": [
      "100%|██████████████████████████| 17781/17781 [01:18<00:00, 226.86it/s]\n"
     ]
    },
    {
     "name": "stdout",
     "output_type": "stream",
     "text": [
      "8577 boards detected\n",
      "D:/Ayesha_local/RP_calibration/video1/cam3/calibration_video1_1_11-34-20_cam3.mp4\n"
     ]
    },
    {
     "name": "stderr",
     "output_type": "stream",
     "text": [
      "100%|██████████████████████████| 17781/17781 [00:40<00:00, 438.64it/s]\n"
     ]
    },
    {
     "name": "stdout",
     "output_type": "stream",
     "text": [
      "3083 boards detected\n",
      "defaultdict(<class 'int'>,\n",
      "            {('cam1', 'cam2'): 6893,\n",
      "             ('cam1', 'cam3'): 553,\n",
      "             ('cam2', 'cam1'): 6893,\n",
      "             ('cam2', 'cam3'): 59,\n",
      "             ('cam3', 'cam1'): 553,\n",
      "             ('cam3', 'cam2'): 59})\n",
      "INFO:numba.core.transforms:finding looplift candidates\n",
      "error:  0.9958885662113552\n",
      "n_samples: 100\n",
      "{(0, 1): (1000, array([0.44847118, 1.60491573])),\n",
      " (0, 2): (1000, array([0.61815382, 2.60735789])),\n",
      " (1, 2): (253, array([1.48541073, 7.57382033]))}\n",
      "error: 1.01, mu: 7.6, ratio: 0.942\n",
      "INFO:numba.core.transforms:finding looplift candidates\n",
      "INFO:numba.core.transforms:finding looplift candidates\n",
      "   Iteration     Total nfev        Cost      Cost reduction    Step norm     Optimality   \n",
      "       0              1         8.8414e+03                                    5.57e+05    \n",
      "       1              2         1.1401e+02      8.73e+03       7.91e+01       1.70e+04    \n",
      "       2              4         2.9941e+01      8.41e+01       3.02e+01       1.24e+04    \n",
      "       3              5         1.6916e+01      1.30e+01       1.18e+01       6.33e+02    \n",
      "       4              7         1.6582e+01      3.35e-01       1.39e+01       5.88e+02    \n",
      "       5              9         1.6398e+01      1.84e-01       6.31e+00       1.66e+02    \n",
      "       6             10         1.6183e+01      2.15e-01       1.26e+01       6.39e+02    \n",
      "       7             12         1.6061e+01      1.22e-01       5.94e+00       1.59e+02    \n",
      "       8             13         1.5956e+01      1.05e-01       1.19e+01       6.43e+02    \n",
      "       9             15         1.5899e+01      5.73e-02       3.81e+00       1.05e+02    \n",
      "      10             16         1.5869e+01      2.97e-02       7.81e+00       2.83e+02    \n",
      "      11             17         1.5861e+01      8.30e-03       8.14e+00       3.83e+02    \n",
      "      12             18         1.5851e+01      9.86e-03       4.80e+00       2.98e+02    \n",
      "      13             19         1.5848e+01      3.02e-03       1.53e+00       4.01e+01    \n",
      "      14             20         1.5847e+01      9.66e-04       1.48e+00       7.64e+01    \n",
      "`ftol` termination condition is satisfied.\n",
      "Function evaluations 20, initial cost 8.8414e+03, final cost 1.5847e+01, first-order optimality 7.64e+01.\n",
      "{(0, 1): (1000, array([0.17137966, 1.16112983])),\n",
      " (0, 2): (1000, array([0.15219568, 1.65749116])),\n",
      " (1, 2): (253, array([0.13593628, 0.45223447]))}\n",
      "error: 0.56, mu: 1.7, ratio: 0.770\n",
      "   Iteration     Total nfev        Cost      Cost reduction    Step norm     Optimality   \n",
      "       0              1         8.6923e+03                                    1.15e+04    \n",
      "       1              2         2.8842e+02      8.40e+03       1.66e+02       2.94e+04    \n",
      "       2              3         6.8701e+01      2.20e+02       7.50e+01       2.73e+04    \n",
      "       3              4         3.7698e+01      3.10e+01       1.18e+01       4.42e+02    \n",
      "       4              5         3.7662e+01      3.55e-02       8.50e-01       1.12e+01    \n",
      "       5              6         3.7660e+01      2.58e-03       3.53e+00       2.10e+02    \n",
      "`ftol` termination condition is satisfied.\n",
      "Function evaluations 6, initial cost 8.6923e+03, final cost 3.7660e+01, first-order optimality 2.10e+02.\n",
      "{(0, 1): (1000, array([0.16392776, 0.95576487])),\n",
      " (0, 2): (1000, array([0.13049323, 2.82126614])),\n",
      " (1, 2): (253, array([0.12230335, 0.35870608]))}\n",
      "error: 0.53, mu: 2.8, ratio: 0.864\n",
      "   Iteration     Total nfev        Cost      Cost reduction    Step norm     Optimality   \n",
      "       0              1         1.8392e+04                                    1.67e+03    \n",
      "       1              2         3.0396e+02      1.81e+04       2.51e+02       6.04e+02    \n",
      "       2              3         5.4892e+01      2.49e+02       4.03e+01       2.55e+03    \n",
      "       3              4         3.3819e+01      2.11e+01       1.39e+01       2.81e+03    \n",
      "       4              5         3.3469e+01      3.50e-01       1.50e+00       5.00e+00    \n",
      "       5              6         3.3467e+01      1.50e-03       1.86e+00       3.66e+01    \n",
      "`ftol` termination condition is satisfied.\n",
      "Function evaluations 6, initial cost 1.8392e+04, final cost 3.3467e+01, first-order optimality 3.66e+01.\n",
      "{(0, 1): (1000, array([0.17566509, 1.14608664])),\n",
      " (0, 2): (1000, array([0.1540289 , 3.03798752])),\n",
      " (1, 2): (253, array([0.1189799 , 0.35833874]))}\n",
      "error: 0.57, mu: 3.0, ratio: 0.864\n",
      "   Iteration     Total nfev        Cost      Cost reduction    Step norm     Optimality   \n",
      "       0              1         2.2397e+04                                    1.33e+03    \n",
      "       1              2         1.0333e+03      2.14e+04       2.71e+02       2.14e+02    \n",
      "       2              3         1.1322e+02      9.20e+02       8.94e+01       1.30e+03    \n",
      "       3              4         4.0491e+01      7.27e+01       1.76e+01       1.10e+03    \n",
      "       4              5         3.4554e+01      5.94e+00       6.80e+00       6.42e-01    \n",
      "       5              6         3.4541e+01      1.30e-02       4.59e-01       1.71e+00    \n",
      "       6              7         3.4540e+01      4.51e-04       4.89e-01       1.86e+01    \n",
      "`ftol` termination condition is satisfied.\n",
      "Function evaluations 7, initial cost 2.2397e+04, final cost 3.4540e+01, first-order optimality 1.86e+01.\n",
      "{(0, 1): (1000, array([0.11251759, 0.57800692])),\n",
      " (0, 2): (1000, array([0.14652893, 3.5896488 ])),\n",
      " (1, 2): (253, array([0.12380711, 0.35250979]))}\n",
      "error: 0.39, mu: 3.6, ratio: 0.865\n",
      "   Iteration     Total nfev        Cost      Cost reduction    Step norm     Optimality   \n",
      "       0              1         2.3857e+04                                    1.67e+03    \n",
      "       1              2         8.8246e+02      2.30e+04       2.76e+02       4.33e+02    \n",
      "       2              3         5.7997e+01      8.24e+02       9.35e+01       5.37e+03    \n",
      "       3              4         3.7063e+01      2.09e+01       1.48e+01       1.68e+03    \n",
      "       4              5         3.6778e+01      2.85e-01       2.76e+00       4.82e+01    \n",
      "       5              6         3.6775e+01      2.97e-03       2.86e+00       6.80e+01    \n",
      "`ftol` termination condition is satisfied.\n",
      "Function evaluations 6, initial cost 2.3857e+04, final cost 3.6775e+01, first-order optimality 6.80e+01.\n",
      "{(0, 1): (1000, array([0.14724449, 0.9671142 ])),\n",
      " (0, 2): (1000, array([0.16078988, 5.05790225])),\n",
      " (1, 2): (253, array([0.1215979 , 0.35923452]))}\n",
      "error: 0.58, mu: 3.3, ratio: 0.825\n",
      "   Iteration     Total nfev        Cost      Cost reduction    Step norm     Optimality   \n",
      "       0              1         2.7926e+04                                    1.22e+03    \n",
      "       1              2         6.4065e+02      2.73e+04       3.02e+02       2.42e+02    \n",
      "       2              3         4.5080e+01      5.96e+02       8.42e+01       3.85e+03    \n",
      "       3              4         3.7593e+01      7.49e+00       1.02e+01       7.20e+02    \n",
      "       4              5         3.7288e+01      3.06e-01       1.09e+00       1.94e+01    \n",
      "       5              6         3.7286e+01      1.27e-03       1.20e+00       4.02e+01    \n",
      "`ftol` termination condition is satisfied.\n",
      "Function evaluations 6, initial cost 2.7926e+04, final cost 3.7286e+01, first-order optimality 4.02e+01.\n",
      "{(0, 1): (1000, array([0.15105903, 0.99957689])),\n",
      " (0, 2): (1000, array([0.15419848, 3.65776272])),\n",
      " (1, 2): (253, array([0.12617862, 0.3649567 ]))}\n",
      "error: 0.53, mu: 2.5, ratio: 0.834\n",
      "   Iteration     Total nfev        Cost      Cost reduction    Step norm     Optimality   \n",
      "       0              1         1.7712e+04                                    2.22e+03    \n",
      "       1              2         3.1102e+02      1.74e+04       2.27e+02       3.26e+02    \n",
      "       2              3         3.4522e+01      2.76e+02       5.55e+01       2.13e+03    \n",
      "       3              4         3.1928e+01      2.59e+00       6.85e+00       7.49e+02    \n",
      "       4              5         3.1916e+01      1.24e-02       1.18e+00       4.21e+01    \n",
      "       5              6         3.1915e+01      5.23e-04       2.70e-01       4.49e+01    \n",
      "`ftol` termination condition is satisfied.\n",
      "Function evaluations 6, initial cost 1.7712e+04, final cost 3.1915e+01, first-order optimality 4.49e+01.\n",
      "{(0, 1): (1000, array([0.11252613, 0.54898029])),\n",
      " (0, 2): (1000, array([0.15168334, 4.21875574])),\n",
      " (1, 2): (253, array([0.12031266, 0.35801292]))}\n",
      "error: 0.40, mu: 1.8, ratio: 0.784\n",
      "   Iteration     Total nfev        Cost      Cost reduction    Step norm     Optimality   \n",
      "       0              1         2.0196e+04                                    3.05e+03    \n",
      "       1              2         4.9403e+02      1.97e+04       2.70e+02       1.17e+03    \n",
      "       2              3         4.7242e+01      4.47e+02       6.83e+01       1.65e+03    \n",
      "       3              4         3.5132e+01      1.21e+01       1.00e+01       7.75e+02    \n",
      "       4              5         3.4983e+01      1.48e-01       1.25e+00       2.38e+00    \n",
      "       5              6         3.4980e+01      3.48e-03       6.51e+00       1.24e+02    \n",
      "`ftol` termination condition is satisfied.\n",
      "Function evaluations 6, initial cost 2.0196e+04, final cost 3.4980e+01, first-order optimality 1.24e+02.\n",
      "{(0, 1): (1000, array([0.16641782, 1.06768264])),\n",
      " (0, 2): (1000, array([0.16088272, 3.40334444])),\n",
      " (1, 2): (253, array([0.12231416, 0.3547808 ]))}\n",
      "error: 0.54, mu: 1.4, ratio: 0.729\n",
      "   Iteration     Total nfev        Cost      Cost reduction    Step norm     Optimality   \n",
      "       0              1         1.8643e+04                                    1.34e+03    \n",
      "       1              2         7.0095e+02      1.79e+04       2.50e+02       1.61e+02    \n",
      "       2              3         6.5091e+01      6.36e+02       7.83e+01       1.17e+03    \n",
      "       3              4         3.5377e+01      2.97e+01       1.38e+01       2.37e+02    \n",
      "       4              5         3.4925e+01      4.52e-01       1.95e+00       1.93e+01    \n",
      "       5              6         3.4924e+01      1.04e-03       1.04e+00       3.38e+01    \n",
      "`ftol` termination condition is satisfied.\n",
      "Function evaluations 6, initial cost 1.8643e+04, final cost 3.4924e+01, first-order optimality 3.38e+01.\n",
      "{(0, 1): (1000, array([0.11369918, 0.6351876 ])),\n",
      " (0, 2): (1000, array([0.15338238, 3.82692317])),\n",
      " (1, 2): (253, array([0.12268832, 0.35879191]))}\n",
      "error: 0.43, mu: 1.0, ratio: 0.738\n",
      "   Iteration     Total nfev        Cost      Cost reduction    Step norm     Optimality   \n",
      "       0              1         1.6285e+04                                    2.07e+03    \n",
      "       1              2         6.6142e+02      1.56e+04       2.32e+02       1.87e+03    \n",
      "       2              3         6.1575e+01      6.00e+02       7.32e+01       1.12e+03    \n",
      "       3              4         3.3741e+01      2.78e+01       1.41e+01       4.06e+02    \n",
      "       4              5         3.3474e+01      2.67e-01       2.39e+00       2.34e+01    \n",
      "       5              6         3.3473e+01      7.04e-04       7.78e-01       1.18e+01    \n",
      "`ftol` termination condition is satisfied.\n",
      "Function evaluations 6, initial cost 1.6285e+04, final cost 3.3473e+01, first-order optimality 1.18e+01.\n",
      "{(0, 1): (1000, array([0.09394293, 0.4536067 ])),\n",
      " (0, 2): (1000, array([0.17097205, 4.35270617])),\n",
      " (1, 2): (253, array([0.11892571, 0.36768627]))}\n",
      "   Iteration     Total nfev        Cost      Cost reduction    Step norm     Optimality   \n",
      "       0              1         1.1711e+05                                    2.43e+05    \n",
      "       1              2         8.0758e+03      1.09e+05       7.16e+02       1.13e+05    \n",
      "       2              3         1.1718e+03      6.90e+03       2.46e+02       7.33e+04    \n",
      "       3              4         2.7055e+02      9.01e+02       7.06e+01       1.66e+04    \n",
      "       4              5         2.2737e+02      4.32e+01       1.30e+01       1.61e+02    \n",
      "       5              6         2.2682e+02      5.48e-01       2.59e+00       3.77e+01    \n",
      "       6              7         2.2682e+02      3.51e-03       1.34e+00       1.96e+02    \n",
      "`ftol` termination condition is satisfied.\n",
      "Function evaluations 7, initial cost 1.1711e+05, final cost 2.2682e+02, first-order optimality 1.96e+02.\n",
      "{(0, 1): (1000, array([0.06580993, 0.40054863])),\n",
      " (0, 2): (1000, array([0.07446287, 0.4900834 ])),\n",
      " (1, 2): (253, array([0.12650651, 0.42087236]))}\n",
      "error:  0.23806659956262508\n"
     ]
    }
   ],
   "source": [
    "board_vids = [['D:/Ayesha_local/RP_calibration/video1/cam1/calibration_video1_1_11-34-20_cam1.mp4'], # Insert your own video paths here \n",
    "        ['D:/Ayesha_local/RP_calibration/video1/cam2/calibration_video1_1_11-34-20_cam2.mp4'],\n",
    "        ['D:/Ayesha_local/RP_calibration/video1/cam3/calibration_video1_1_11-34-20_cam3.mp4']]\n",
    "\n",
    "cam_names = ['cam1', 'cam2', 'cam3']\n",
    "\n",
    "board = CharucoBoard(5, 5, # width x height\n",
    "                     square_length=5, # here, in cm but any unit works\n",
    "                     marker_length=3.75,\n",
    "                     marker_bits=4, dict_size=100)\n",
    "\n",
    "cgroup = CameraGroup.from_names(cam_names)\n",
    "\n",
    "cgroup.calibrate_videos(board_vids, board)\n",
    "cgroup.dump('calibration.toml')"
   ]
  },
  {
   "cell_type": "markdown",
   "id": "2fa4651a-d249-4cb7-813f-c88fd0f5bad2",
   "metadata": {},
   "source": [
    "The cgroup object refers to all the cameras in a single entity. It will keep track of the camera parameters for when we later need them for triangulation"
   ]
  },
  {
   "cell_type": "code",
   "execution_count": 10,
   "id": "29612283",
   "metadata": {},
   "outputs": [],
   "source": [
    "cgroup = CameraGroup.load(\"C:\\\\Users\\\\shantanu.ray\\\\projects\\\\sleap\\\\addons\\\\calibration.toml\")"
   ]
  },
  {
   "cell_type": "markdown",
   "id": "20dd9893-47a7-4a07-a655-051b100b0b3a",
   "metadata": {},
   "source": [
    "# Triangulation"
   ]
  },
  {
   "cell_type": "markdown",
   "id": "797805f1-8a71-40fe-b855-778d6d4dc7e3",
   "metadata": {},
   "source": [
    "Aniposelib gives us the option to triangulate with the direct linear transformation (DLT) or with RANSAC, which adds an outlier rejection subroutine to the DLT. <br>\n",
    "In addition to these 2 triangulation methods, we can further refine the 3D points via direct optimization of the reprojection error. "
   ]
  },
  {
   "cell_type": "code",
   "execution_count": 21,
   "id": "9511ce7b-1855-48eb-99eb-9376472929df",
   "metadata": {},
   "outputs": [
    {
     "name": "stderr",
     "output_type": "stream",
     "text": [
      "100%|██████████████████████████| 4400/4400 [00:00<00:00, 10080.50it/s]\n"
     ]
    },
    {
     "data": {
      "text/plain": [
       "(400, 11, 3, 1)"
      ]
     },
     "execution_count": 21,
     "metadata": {},
     "output_type": "execute_result"
    }
   ],
   "source": [
    "# Original simple triangulation\n",
    "p3d_dlt = np.stack([cgroup.triangulate_optim(gt[..., track], init_progress=True) for track in range(n_tracks)], axis=-1)\n",
    "p3d_dlt.shape"
   ]
  },
  {
   "cell_type": "code",
   "execution_count": 40,
   "id": "8d9ef393-c3c0-4074-b73b-0ea147b9e157",
   "metadata": {},
   "outputs": [
    {
     "name": "stderr",
     "output_type": "stream",
     "text": [
      "  0%|                                        | 0/4400 [00:00<?, ?it/s]"
     ]
    },
    {
     "name": "stdout",
     "output_type": "stream",
     "text": [
      "INFO:numba.core.transforms:finding looplift candidates\n"
     ]
    },
    {
     "name": "stderr",
     "output_type": "stream",
     "text": [
      "100%|████████████████████████████| 4400/4400 [00:08<00:00, 499.06it/s]\n",
      "C:\\Users\\shantanu.ray\\projects\\sleap\\sleap\\lib\\site-packages\\numpy\\core\\fromnumeric.py:3474: RuntimeWarning: Mean of empty slice.\n",
      "  return _methods._mean(a, axis=axis, dtype=dtype,\n",
      "C:\\Users\\shantanu.ray\\projects\\sleap\\sleap\\lib\\site-packages\\numpy\\core\\_methods.py:189: RuntimeWarning: invalid value encountered in double_scalars\n",
      "  ret = ret.dtype.type(ret / rcount)\n"
     ]
    },
    {
     "name": "stdout",
     "output_type": "stream",
     "text": [
      "INFO:numba.core.transforms:finding looplift candidates\n"
     ]
    },
    {
     "data": {
      "text/plain": [
       "(400, 11, 3, 1)"
      ]
     },
     "execution_count": 40,
     "metadata": {},
     "output_type": "execute_result"
    }
   ],
   "source": [
    "# Ransac triangulation \n",
    "p3d_ransac = np.stack([cgroup.triangulate_optim(gt[..., track], init_ransac = True, init_progress = True) for track in range(n_tracks)], axis=-1)\n",
    "p3d_ransac.shape"
   ]
  },
  {
   "cell_type": "code",
   "execution_count": 22,
   "id": "0a6e7766-6724-4b31-bd88-75245922f552",
   "metadata": {},
   "outputs": [
    {
     "data": {
      "text/plain": [
       "(400, 11, 3, 1)"
      ]
     },
     "execution_count": 22,
     "metadata": {},
     "output_type": "execute_result"
    }
   ],
   "source": [
    "# Refinement\n",
    "p3d_ls = np.stack([cgroup.optim_points(gt[..., track], p3d_dlt[..., track]) for track in range(n_tracks)], axis=-1) \n",
    "p3d_ls.shape"
   ]
  },
  {
   "cell_type": "code",
   "execution_count": 18,
   "id": "6f1265d5-9861-48af-945e-1c223df7bb10",
   "metadata": {},
   "outputs": [],
   "source": [
    "np.save('p3d_ls.npy', p3d_ls)"
   ]
  },
  {
   "cell_type": "code",
   "execution_count": null,
   "id": "507f26b7-65ec-4ea5-b39b-59d75f12e495",
   "metadata": {},
   "outputs": [],
   "source": [
    "from scipy.io import savemat"
   ]
  },
  {
   "cell_type": "code",
   "execution_count": 33,
   "id": "e01278d7-24b6-493c-a1d8-af86849c5873",
   "metadata": {},
   "outputs": [],
   "source": []
  },
  {
   "cell_type": "code",
   "execution_count": 11,
   "id": "c280d0c0-ca81-4a73-9c7a-bc982883c1e7",
   "metadata": {},
   "outputs": [],
   "source": [
    "from triangulation import TriangulationMethod, get_3d_poses"
   ]
  },
  {
   "cell_type": "code",
   "execution_count": 12,
   "id": "4342f50d-d3c9-4ccf-b995-3396b1b389c4",
   "metadata": {},
   "outputs": [
    {
     "name": "stderr",
     "output_type": "stream",
     "text": [
      "100%|███████████████████████████| 4400/4400 [00:03<00:00, 1365.92it/s]\n",
      "C:\\Users\\shantanu.ray\\projects\\sleap\\sleap\\lib\\site-packages\\numpy\\core\\fromnumeric.py:3474: RuntimeWarning: Mean of empty slice.\n",
      "  return _methods._mean(a, axis=axis, dtype=dtype,\n",
      "C:\\Users\\shantanu.ray\\projects\\sleap\\sleap\\lib\\site-packages\\numpy\\core\\_methods.py:189: RuntimeWarning: invalid value encountered in double_scalars\n",
      "  ret = ret.dtype.type(ret / rcount)\n"
     ]
    },
    {
     "name": "stdout",
     "output_type": "stream",
     "text": [
      "INFO:numba.core.transforms:finding looplift candidates\n",
      "INFO:numba.core.transforms:finding looplift candidates\n"
     ]
    }
   ],
   "source": [
    "p3d_dlt_1 = get_3d_poses(poses_2d=gt,\n",
    "                         calibration_filepath=\"C:\\\\Users\\\\shantanu.ray\\\\projects\\\\sleap\\\\addons\\\\calibration.toml\",\n",
    "                         triangulate=TriangulationMethod.calibrated_dtl,\n",
    "                         show_progress=True)"
   ]
  },
  {
   "cell_type": "code",
   "execution_count": 13,
   "id": "c4df13e3-8ac2-4699-af1f-247f3b3c9f07",
   "metadata": {},
   "outputs": [
    {
     "data": {
      "text/plain": [
       "(400, 11, 3, 1)"
      ]
     },
     "execution_count": 13,
     "metadata": {},
     "output_type": "execute_result"
    }
   ],
   "source": [
    "p3d_dlt_1.shape"
   ]
  },
  {
   "cell_type": "code",
   "execution_count": 14,
   "id": "2570000e-8d0d-49ca-aa18-25fbff706cec",
   "metadata": {},
   "outputs": [
    {
     "name": "stderr",
     "output_type": "stream",
     "text": [
      "  0%|                                        | 0/4400 [00:00<?, ?it/s]"
     ]
    },
    {
     "name": "stdout",
     "output_type": "stream",
     "text": [
      "INFO:numba.core.transforms:finding looplift candidates\n"
     ]
    },
    {
     "name": "stderr",
     "output_type": "stream",
     "text": [
      "100%|████████████████████████████| 4400/4400 [00:06<00:00, 705.11it/s]\n",
      "C:\\Users\\shantanu.ray\\projects\\sleap\\sleap\\lib\\site-packages\\numpy\\core\\fromnumeric.py:3474: RuntimeWarning: Mean of empty slice.\n",
      "  return _methods._mean(a, axis=axis, dtype=dtype,\n",
      "C:\\Users\\shantanu.ray\\projects\\sleap\\sleap\\lib\\site-packages\\numpy\\core\\_methods.py:189: RuntimeWarning: invalid value encountered in double_scalars\n",
      "  ret = ret.dtype.type(ret / rcount)\n"
     ]
    },
    {
     "name": "stdout",
     "output_type": "stream",
     "text": [
      "INFO:numba.core.transforms:finding looplift candidates\n"
     ]
    }
   ],
   "source": [
    "p3d_ransac_1 = get_3d_poses(poses_2d=gt,\n",
    "                         calibration_filepath=\"C:\\\\Users\\\\shantanu.ray\\\\projects\\\\sleap\\\\addons\\\\calibration.toml\",\n",
    "                         triangulate=TriangulationMethod.calibrated_ransac,\n",
    "                         show_progress=True)"
   ]
  },
  {
   "cell_type": "code",
   "execution_count": 15,
   "id": "33cfda27-b6fc-4e30-93c0-b81d04ca2ab8",
   "metadata": {},
   "outputs": [
    {
     "data": {
      "text/plain": [
       "(400, 11, 3, 1)"
      ]
     },
     "execution_count": 15,
     "metadata": {},
     "output_type": "execute_result"
    }
   ],
   "source": [
    "p3d_ransac_1.shape"
   ]
  },
  {
   "cell_type": "code",
   "execution_count": 16,
   "id": "e824b17a-b84b-4016-ad64-48422e9ffdad",
   "metadata": {},
   "outputs": [
    {
     "name": "stderr",
     "output_type": "stream",
     "text": [
      "100%|███████████████████████████| 4400/4400 [00:00<00:00, 9386.68it/s]\n",
      "C:\\Users\\shantanu.ray\\projects\\sleap\\sleap\\lib\\site-packages\\numpy\\core\\fromnumeric.py:3474: RuntimeWarning: Mean of empty slice.\n",
      "  return _methods._mean(a, axis=axis, dtype=dtype,\n",
      "C:\\Users\\shantanu.ray\\projects\\sleap\\sleap\\lib\\site-packages\\numpy\\core\\_methods.py:189: RuntimeWarning: invalid value encountered in double_scalars\n",
      "  ret = ret.dtype.type(ret / rcount)\n"
     ]
    }
   ],
   "source": [
    "p3d_dlt_2 = get_3d_poses(poses_2d=gt,\n",
    "                         calibration_filepath=\"C:\\\\Users\\\\shantanu.ray\\\\projects\\\\sleap\\\\addons\\\\calibration.toml\",\n",
    "                         triangulate=TriangulationMethod.calibrated_dtl,\n",
    "                         refine_calibration=True,\n",
    "                         show_progress=True)"
   ]
  },
  {
   "cell_type": "code",
   "execution_count": 17,
   "id": "9873edfd-4995-44ce-8d85-e6d4058a4516",
   "metadata": {},
   "outputs": [
    {
     "data": {
      "text/plain": [
       "(400, 11, 3, 1)"
      ]
     },
     "execution_count": 17,
     "metadata": {},
     "output_type": "execute_result"
    }
   ],
   "source": [
    "p3d_dlt_2.shape"
   ]
  }
 ],
 "metadata": {
  "kernelspec": {
   "display_name": "sleap",
   "language": "python",
   "name": "sleap"
  },
  "language_info": {
   "codemirror_mode": {
    "name": "ipython",
    "version": 3
   },
   "file_extension": ".py",
   "mimetype": "text/x-python",
   "name": "python",
   "nbconvert_exporter": "python",
   "pygments_lexer": "ipython3",
   "version": "3.8.10"
  }
 },
 "nbformat": 4,
 "nbformat_minor": 5
}
